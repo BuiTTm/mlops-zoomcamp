{
 "cells": [
  {
   "cell_type": "code",
<<<<<<< HEAD
   "execution_count": 42,
   "id": "7525e867",
=======
   "execution_count": 1,
   "id": "98cdf9b7-5d07-4a96-9c0d-78bdaf47e561",
   "metadata": {},
   "outputs": [
    {
     "name": "stdout",
     "output_type": "stream",
     "text": [
      "Python 3.9.12\n"
     ]
    }
   ],
   "source": [
    "!python -V"
   ]
  },
  {
   "cell_type": "code",
   "execution_count": 38,
   "id": "c6fec5b3-7ac1-4b17-9927-ab96427fb58e",
>>>>>>> f8bdd23 ( Added Homework file)
   "metadata": {},
   "outputs": [],
   "source": [
    "import pandas as pd\n",
<<<<<<< HEAD
    "import seaborn as sns\n",
    "\n",
    "from sklearn.feature_extraction import DictVectorizer\n",
    "from sklearn.linear_model import LinearRegression\n",
=======
    "import pickle\n",
    "import seaborn as sns\n",
    "import matplotlib.pyplot as plt\n",
    "from sklearn.feature_extraction import DictVectorizer\n",
    "from sklearn.linear_model import LinearRegression\n",
    "from sklearn.linear_model import Lasso\n",
    "from sklearn.linear_model import Ridge\n",
>>>>>>> f8bdd23 ( Added Homework file)
    "\n",
    "from sklearn.metrics import mean_squared_error"
   ]
  },
  {
   "cell_type": "code",
<<<<<<< HEAD
   "execution_count": 35,
   "id": "4c1fbc9a",
   "metadata": {},
   "outputs": [],
   "source": [
    "df = pd.read_parquet('./data/fhv_tripdata_2021-01.parquet')"
   ]
  },
  {
   "cell_type": "code",
   "execution_count": 20,
   "id": "7a70df86",
   "metadata": {},
   "outputs": [],
   "source": [
    "old_len = len(df)"
   ]
  },
  {
   "cell_type": "code",
   "execution_count": 36,
   "id": "f17cc325",
   "metadata": {},
   "outputs": [],
   "source": [
    "df['duration'] = df.dropOff_datetime - df.pickup_datetime\n",
    "df['duration'] = df.duration.dt.total_seconds() / 60"
   ]
  },
  {
   "cell_type": "code",
   "execution_count": 16,
   "id": "1b613836",
   "metadata": {},
   "outputs": [
    {
     "data": {
      "text/plain": [
       "19.1672240937939"
      ]
     },
     "execution_count": 16,
     "metadata": {},
     "output_type": "execute_result"
    }
   ],
   "source": [
    "df.duration.mean()"
=======
   "execution_count": 4,
   "id": "51eb8ab4-517a-4f1c-89f6-852ce82af539",
   "metadata": {},
   "outputs": [
    {
     "name": "stdout",
     "output_type": "stream",
     "text": [
      "--2022-05-23 04:12:45--  https://nyc-tlc.s3.amazonaws.com/trip+data/fhv_tripdata_2021-01.parquet\n",
      "Resolving nyc-tlc.s3.amazonaws.com (nyc-tlc.s3.amazonaws.com)... 52.216.110.99\n",
      "Connecting to nyc-tlc.s3.amazonaws.com (nyc-tlc.s3.amazonaws.com)|52.216.110.99|:443... connected.\n",
      "HTTP request sent, awaiting response... 200 OK\n",
      "Length: 11886281 (11M) [binary/octet-stream]\n",
      "Saving to: ‘./data/fhv_tripdata_2021-01.parquet’\n",
      "\n",
      "./data/fhv_tripdata 100%[===================>]  11.33M  31.5MB/s    in 0.4s    \n",
      "\n",
      "2022-05-23 04:12:46 (31.5 MB/s) - ‘./data/fhv_tripdata_2021-01.parquet’ saved [11886281/11886281]\n",
      "\n"
     ]
    }
   ],
   "source": [
    "!wget https://nyc-tlc.s3.amazonaws.com/trip+data/fhv_tripdata_2021-01.parquet -O ./data/fhv_tripdata_2021-01.parquet"
>>>>>>> f8bdd23 ( Added Homework file)
   ]
  },
  {
   "cell_type": "code",
<<<<<<< HEAD
   "execution_count": 37,
   "id": "3092ae43",
   "metadata": {},
   "outputs": [],
   "source": [
    "df = df[(df.duration >= 1) & (df.duration <= 60)].copy()"
   ]
  },
  {
   "cell_type": "code",
   "execution_count": 38,
   "id": "2e1aa200",
   "metadata": {},
   "outputs": [],
   "source": [
    "categorical = ['PUlocationID', 'DOlocationID']\n",
    "\n",
    "df[categorical] = df[categorical].fillna(-1).astype('int')"
   ]
  },
  {
   "cell_type": "code",
   "execution_count": 52,
   "id": "22c6495b",
   "metadata": {},
   "outputs": [],
   "source": [
    "df[categorical] = df[categorical].astype('str')"
   ]
  },
  {
   "cell_type": "code",
   "execution_count": 55,
   "id": "12fcfa04",
   "metadata": {},
   "outputs": [],
   "source": [
    "train_dicts = df[categorical].to_dict(orient='records')"
   ]
  },
  {
   "cell_type": "code",
   "execution_count": 56,
   "id": "0606301f",
   "metadata": {},
   "outputs": [],
   "source": [
    "dv = DictVectorizer()\n",
    "X_train = dv.fit_transform(train_dicts) "
   ]
  },
  {
   "cell_type": "code",
   "execution_count": 57,
   "id": "c81c6737",
   "metadata": {},
   "outputs": [
    {
     "data": {
      "text/plain": [
       "(1109826, 525)"
      ]
     },
     "execution_count": 57,
     "metadata": {},
     "output_type": "execute_result"
    }
   ],
   "source": [
    "X_train.shape"
   ]
  },
  {
   "cell_type": "code",
   "execution_count": 60,
   "id": "aeaf7bad",
   "metadata": {},
   "outputs": [],
   "source": [
    "y_train = df.duration.values"
   ]
  },
  {
   "cell_type": "code",
   "execution_count": 59,
   "id": "75199886",
   "metadata": {},
   "outputs": [
    {
     "data": {
      "text/plain": [
       "525"
      ]
     },
     "execution_count": 59,
     "metadata": {},
     "output_type": "execute_result"
    }
   ],
   "source": [
    "len(dv.feature_names_)"
   ]
  },
  {
   "cell_type": "code",
   "execution_count": 61,
   "id": "4d7f1e4b",
   "metadata": {},
   "outputs": [
    {
     "data": {
      "text/plain": [
       "LinearRegression()"
      ]
     },
     "execution_count": 61,
     "metadata": {},
     "output_type": "execute_result"
    }
   ],
   "source": [
    "lr = LinearRegression()\n",
    "lr.fit(X_train, y_train)"
=======
   "execution_count": 5,
   "id": "e0059424-c0cb-495a-80b1-8afb25d8c268",
   "metadata": {},
   "outputs": [
    {
     "name": "stdout",
     "output_type": "stream",
     "text": [
      "--2022-05-23 04:13:41--  https://nyc-tlc.s3.amazonaws.com/trip+data/fhv_tripdata_2021-02.parquet\n",
      "Resolving nyc-tlc.s3.amazonaws.com (nyc-tlc.s3.amazonaws.com)... 52.217.165.89\n",
      "Connecting to nyc-tlc.s3.amazonaws.com (nyc-tlc.s3.amazonaws.com)|52.217.165.89|:443... connected.\n",
      "HTTP request sent, awaiting response... 200 OK\n",
      "Length: 10645466 (10M) [binary/octet-stream]\n",
      "Saving to: ‘./data/fhv_tripdata_2021-02.parquet’\n",
      "\n",
      "./data/fhv_tripdata 100%[===================>]  10.15M  30.4MB/s    in 0.3s    \n",
      "\n",
      "2022-05-23 04:13:42 (30.4 MB/s) - ‘./data/fhv_tripdata_2021-02.parquet’ saved [10645466/10645466]\n",
      "\n"
     ]
    }
   ],
   "source": [
    "!wget https://nyc-tlc.s3.amazonaws.com/trip+data/fhv_tripdata_2021-02.parquet -O ./data/fhv_tripdata_2021-02.parquet"
>>>>>>> f8bdd23 ( Added Homework file)
   ]
  },
  {
   "cell_type": "code",
   "execution_count": 62,
<<<<<<< HEAD
   "id": "d61318d0",
   "metadata": {},
   "outputs": [],
   "source": [
    "y_pred = lr.predict(X_train)"
=======
   "id": "5b36d043-ab62-447e-b6ca-327c89e615df",
   "metadata": {},
   "outputs": [
    {
     "name": "stdout",
     "output_type": "stream",
     "text": [
      "Read the data for January. How many records are there?\n"
     ]
    },
    {
     "data": {
      "text/plain": [
       "(1154112, 7)"
      ]
     },
     "execution_count": 62,
     "metadata": {},
     "output_type": "execute_result"
    }
   ],
   "source": [
    "df = pd.read_parquet('./data/fhv_tripdata_2021-01.parquet')\n",
    "print(f'Read the data for January. How many records are there?')\n",
    "df.shape"
>>>>>>> f8bdd23 ( Added Homework file)
   ]
  },
  {
   "cell_type": "code",
   "execution_count": 63,
<<<<<<< HEAD
   "id": "1aa5f5c2",
=======
   "id": "a8e25df7-a17c-41c9-9427-1208bd90d251",
>>>>>>> f8bdd23 ( Added Homework file)
   "metadata": {},
   "outputs": [
    {
     "data": {
<<<<<<< HEAD
      "text/plain": [
       "10.528519107212292"
=======
      "text/html": [
       "<div>\n",
       "<style scoped>\n",
       "    .dataframe tbody tr th:only-of-type {\n",
       "        vertical-align: middle;\n",
       "    }\n",
       "\n",
       "    .dataframe tbody tr th {\n",
       "        vertical-align: top;\n",
       "    }\n",
       "\n",
       "    .dataframe thead th {\n",
       "        text-align: right;\n",
       "    }\n",
       "</style>\n",
       "<table border=\"1\" class=\"dataframe\">\n",
       "  <thead>\n",
       "    <tr style=\"text-align: right;\">\n",
       "      <th></th>\n",
       "      <th>dispatching_base_num</th>\n",
       "      <th>pickup_datetime</th>\n",
       "      <th>dropOff_datetime</th>\n",
       "      <th>PUlocationID</th>\n",
       "      <th>DOlocationID</th>\n",
       "      <th>SR_Flag</th>\n",
       "      <th>Affiliated_base_number</th>\n",
       "    </tr>\n",
       "  </thead>\n",
       "  <tbody>\n",
       "    <tr>\n",
       "      <th>0</th>\n",
       "      <td>B00009</td>\n",
       "      <td>2021-01-01 00:27:00</td>\n",
       "      <td>2021-01-01 00:44:00</td>\n",
       "      <td>NaN</td>\n",
       "      <td>NaN</td>\n",
       "      <td>None</td>\n",
       "      <td>B00009</td>\n",
       "    </tr>\n",
       "    <tr>\n",
       "      <th>1</th>\n",
       "      <td>B00009</td>\n",
       "      <td>2021-01-01 00:50:00</td>\n",
       "      <td>2021-01-01 01:07:00</td>\n",
       "      <td>NaN</td>\n",
       "      <td>NaN</td>\n",
       "      <td>None</td>\n",
       "      <td>B00009</td>\n",
       "    </tr>\n",
       "    <tr>\n",
       "      <th>2</th>\n",
       "      <td>B00013</td>\n",
       "      <td>2021-01-01 00:01:00</td>\n",
       "      <td>2021-01-01 01:51:00</td>\n",
       "      <td>NaN</td>\n",
       "      <td>NaN</td>\n",
       "      <td>None</td>\n",
       "      <td>B00013</td>\n",
       "    </tr>\n",
       "    <tr>\n",
       "      <th>3</th>\n",
       "      <td>B00037</td>\n",
       "      <td>2021-01-01 00:13:09</td>\n",
       "      <td>2021-01-01 00:21:26</td>\n",
       "      <td>NaN</td>\n",
       "      <td>72.0</td>\n",
       "      <td>None</td>\n",
       "      <td>B00037</td>\n",
       "    </tr>\n",
       "    <tr>\n",
       "      <th>4</th>\n",
       "      <td>B00037</td>\n",
       "      <td>2021-01-01 00:38:31</td>\n",
       "      <td>2021-01-01 00:53:44</td>\n",
       "      <td>NaN</td>\n",
       "      <td>61.0</td>\n",
       "      <td>None</td>\n",
       "      <td>B00037</td>\n",
       "    </tr>\n",
       "  </tbody>\n",
       "</table>\n",
       "</div>"
      ],
      "text/plain": [
       "  dispatching_base_num     pickup_datetime    dropOff_datetime  PUlocationID  \\\n",
       "0               B00009 2021-01-01 00:27:00 2021-01-01 00:44:00           NaN   \n",
       "1               B00009 2021-01-01 00:50:00 2021-01-01 01:07:00           NaN   \n",
       "2               B00013 2021-01-01 00:01:00 2021-01-01 01:51:00           NaN   \n",
       "3               B00037 2021-01-01 00:13:09 2021-01-01 00:21:26           NaN   \n",
       "4               B00037 2021-01-01 00:38:31 2021-01-01 00:53:44           NaN   \n",
       "\n",
       "   DOlocationID SR_Flag Affiliated_base_number  \n",
       "0           NaN    None                 B00009  \n",
       "1           NaN    None                 B00009  \n",
       "2           NaN    None                 B00013  \n",
       "3          72.0    None                 B00037  \n",
       "4          61.0    None                 B00037  "
>>>>>>> f8bdd23 ( Added Homework file)
      ]
     },
     "execution_count": 63,
     "metadata": {},
     "output_type": "execute_result"
    }
   ],
   "source": [
<<<<<<< HEAD
    "mean_squared_error(y_train, y_pred, squared=False)"
=======
    "df.head()"
>>>>>>> f8bdd23 ( Added Homework file)
   ]
  },
  {
   "cell_type": "code",
   "execution_count": 64,
<<<<<<< HEAD
   "id": "41c08294",
=======
   "id": "9ed89dde-abae-4805-80a4-da9dd00eee88",
   "metadata": {},
   "outputs": [
    {
     "name": "stdout",
     "output_type": "stream",
     "text": [
      "Question 2: Average duration in Jan 2021 FHV\n",
      "19.167224093791006\n"
     ]
    }
   ],
   "source": [
    "#df = pd.read_parquet('./data/fhv_tripdata_2021-01.parquet')\n",
    "\n",
    "df['duration'] = df.dropOff_datetime - df.pickup_datetime\n",
    "df.duration = df.duration.apply(lambda td: td.total_seconds() / 60)\n",
    "print(f'Question 2: Average duration in Jan 2021 FHV')\n",
    "print(df.duration.mean())\n",
    "df = df[(df.duration >= 1) & (df.duration <= 60)]\n",
    "\n",
    "# categorical = ['PUlocationID', 'DOlocationID']\n",
    "# numerical = ['trip_distance']\n",
    "\n",
    "# df[categorical] = df[categorical].astype(str)"
   ]
  },
  {
   "cell_type": "code",
   "execution_count": 65,
   "id": "5dd8d355-cc73-421d-9f0c-d77bfb17328d",
   "metadata": {},
   "outputs": [
    {
     "name": "stdout",
     "output_type": "stream",
     "text": [
      "Question 3: Fraction of missing values\n",
      "0.8352732770722617\n"
     ]
    }
   ],
   "source": [
    "print(f'Question 3: Fraction of missing values')\n",
    "print(f'{df[\"PUlocationID\"].isna().sum()/df.shape[0]}')\n",
    "df['PUlocationID'] = df['PUlocationID'].fillna(-1)\n",
    "df['DOlocationID'] = df['DOlocationID'].fillna(-1)\n",
    "\n"
   ]
  },
  {
   "cell_type": "code",
   "execution_count": 66,
   "id": "68589d8d-c01e-4bec-9f60-3c36007d46c1",
   "metadata": {},
   "outputs": [
    {
     "data": {
      "text/plain": [
       "PUlocationID\n",
       "-1.0      927008\n",
       " 1.0          50\n",
       " 2.0           2\n",
       " 3.0         460\n",
       " 4.0         145\n",
       "           ...  \n",
       " 261.0       105\n",
       " 262.0       159\n",
       " 263.0       256\n",
       " 264.0       510\n",
       " 265.0      2365\n",
       "Name: PUlocationID, Length: 262, dtype: int64"
      ]
     },
     "execution_count": 66,
     "metadata": {},
     "output_type": "execute_result"
    }
   ],
   "source": [
    "df.groupby(['PUlocationID'])['PUlocationID'].count()"
   ]
  },
  {
   "cell_type": "code",
   "execution_count": 67,
   "id": "283c1eda-4a0f-4e4a-912d-b9c54b73fcb1",
>>>>>>> f8bdd23 ( Added Homework file)
   "metadata": {},
   "outputs": [],
   "source": [
    "categorical = ['PUlocationID', 'DOlocationID']\n",
    "\n",
<<<<<<< HEAD
    "def read_data(filename):\n",
    "    df = pd.read_parquet(filename)\n",
    "    \n",
    "    df['duration'] = df.dropOff_datetime - df.pickup_datetime\n",
    "    df['duration'] = df.duration.dt.total_seconds() / 60\n",
    "\n",
    "    df = df[(df.duration >= 1) & (df.duration <= 60)].copy()\n",
    "\n",
    "    df[categorical] = df[categorical].fillna(-1).astype('int').astype('str')\n",
=======
    "df[categorical] = df[categorical].astype(str)\n",
    "train_dicts = df[categorical].to_dict(orient='records')\n",
    "dv = DictVectorizer()\n",
    "X_train = dv.fit_transform(train_dicts)"
   ]
  },
  {
   "cell_type": "code",
   "execution_count": 68,
   "id": "8df06a18-60ce-41f7-9566-db411238dc48",
   "metadata": {},
   "outputs": [
    {
     "name": "stdout",
     "output_type": "stream",
     "text": [
      "Q4: What s the dimensionality of this matrix? (The number of columns):\n"
     ]
    },
    {
     "data": {
      "text/plain": [
       "525"
      ]
     },
     "execution_count": 68,
     "metadata": {},
     "output_type": "execute_result"
    }
   ],
   "source": [
    "print(f'Q4: What s the dimensionality of this matrix? (The number of columns):')\n",
    "X_train.shape[1]\n"
   ]
  },
  {
   "cell_type": "code",
   "execution_count": null,
   "id": "caca1d39-7bbe-44db-85d8-4116b7be872d",
   "metadata": {},
   "outputs": [],
   "source": []
  },
  {
   "cell_type": "code",
   "execution_count": 70,
   "id": "0dbe79aa-043b-4c4a-b06f-13297c25f838",
   "metadata": {},
   "outputs": [
    {
     "data": {
      "text/plain": [
       "10.528519388728261"
      ]
     },
     "execution_count": 70,
     "metadata": {},
     "output_type": "execute_result"
    }
   ],
   "source": [
    "target = 'duration'\n",
    "y_train = df[target].values\n",
    "\n",
    "lr = LinearRegression()\n",
    "lr.fit(X_train, y_train)\n",
    "\n",
    "y_pred = lr.predict(X_train)\n",
    "\n",
    "print(f'Q5: What\"s the RMSE on train?')\n",
    "print(mean_squared_error(y_train, y_pred, squared=False))"
   ]
  },
  {
   "cell_type": "code",
   "execution_count": 72,
   "id": "9524422b-0026-4b66-b23e-d6a9cf8919b2",
   "metadata": {},
   "outputs": [
    {
     "data": {
      "text/plain": [
       "<matplotlib.legend.Legend at 0x7fb540933820>"
      ]
     },
     "execution_count": 72,
     "metadata": {},
     "output_type": "execute_result"
    },
    {
     "data": {
      "image/png": "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\n",
      "text/plain": [
       "<Figure size 360x360 with 1 Axes>"
      ]
     },
     "metadata": {
      "needs_background": "light"
     },
     "output_type": "display_data"
    },
    {
     "data": {
      "image/png": "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\n",
      "text/plain": [
       "<Figure size 360x360 with 1 Axes>"
      ]
     },
     "metadata": {
      "needs_background": "light"
     },
     "output_type": "display_data"
    }
   ],
   "source": [
    "sns.displot(y_pred, label='prediction')\n",
    "sns.displot(y_train, label='actual')\n",
    "\n",
    "plt.legend()"
   ]
  },
  {
   "cell_type": "code",
   "execution_count": 75,
   "id": "f20c4957-c821-476b-a94e-56a86e182216",
   "metadata": {},
   "outputs": [],
   "source": [
    "def read_dataframe(filename):\n",
    "    if filename.endswith('.parquet'):\n",
    "        df = pd.read_parquet(filename)\n",
    "\n",
    "    df['duration'] = df.dropOff_datetime - df.pickup_datetime\n",
    "    df.duration = df.duration.apply(lambda td: td.total_seconds() / 60)\n",
    "\n",
    "    df = df[(df.duration >= 1) & (df.duration <= 60)]\n",
    "\n",
    "    df['PUlocationID'] = df['PUlocationID'].fillna(-1)\n",
    "    df['DOlocationID'] = df['DOlocationID'].fillna(-1)\n",
    "    \n",
    "    categorical = ['PUlocationID', 'DOlocationID']\n",
    "    df[categorical] = df[categorical].astype(str)\n",
>>>>>>> f8bdd23 ( Added Homework file)
    "    \n",
    "    return df"
   ]
  },
  {
   "cell_type": "code",
<<<<<<< HEAD
   "execution_count": 65,
   "id": "4854399a",
   "metadata": {},
   "outputs": [],
   "source": [
    "df_val = read_data('./data/fhv_tripdata_2021-02.parquet')"
   ]
  },
  {
   "cell_type": "code",
   "execution_count": 68,
   "id": "f9eea69f",
   "metadata": {},
   "outputs": [],
   "source": [
    "val_dicts = df_val[categorical].to_dict(orient='records')"
   ]
  },
  {
   "cell_type": "code",
   "execution_count": 69,
   "id": "669fda0a",
   "metadata": {},
   "outputs": [],
   "source": [
    "X_val = dv.transform(val_dicts) "
   ]
  },
  {
   "cell_type": "code",
   "execution_count": 70,
   "id": "7f8f950d",
   "metadata": {},
   "outputs": [],
   "source": [
    "y_pred = lr.predict(X_val)"
   ]
  },
  {
   "cell_type": "code",
   "execution_count": 71,
   "id": "8f129850",
   "metadata": {},
   "outputs": [],
   "source": [
    "y_val = df_val.duration.values"
   ]
  },
  {
   "cell_type": "code",
   "execution_count": 72,
   "id": "8a277ab9",
   "metadata": {},
   "outputs": [
    {
     "data": {
      "text/plain": [
       "11.014283211122269"
      ]
     },
     "execution_count": 72,
     "metadata": {},
     "output_type": "execute_result"
    }
   ],
   "source": [
    "mean_squared_error(y_val, y_pred, squared=False)"
=======
   "execution_count": 79,
   "id": "9f37573f-251e-4b96-bafd-164bb8037298",
   "metadata": {},
   "outputs": [
    {
     "name": "stdout",
     "output_type": "stream",
     "text": [
      "1109826 990113\n"
     ]
    }
   ],
   "source": [
    "df_train = read_dataframe('./data/fhv_tripdata_2021-01.parquet')\n",
    "df_val = read_dataframe('./data/fhv_tripdata_2021-02.parquet')\n",
    "print(len(df_train), len(df_val))\n",
    "df_train['PU_DO'] = df_train['PUlocationID'] + '_' + df_train['DOlocationID']\n",
    "df_val['PU_DO'] = df_val['PUlocationID'] + '_' + df_val['DOlocationID']"
   ]
  },
  {
   "cell_type": "code",
   "execution_count": 80,
   "id": "e4a99a0b-0bc0-4740-9311-00dabeefbe90",
   "metadata": {},
   "outputs": [],
   "source": [
    "dv = DictVectorizer()\n",
    "\n",
    "train_dicts = df_train[categorical].to_dict(orient='records')\n",
    "X_train = dv.fit_transform(train_dicts)\n",
    "\n",
    "val_dicts = df_val[categorical].to_dict(orient='records')\n",
    "X_val = dv.transform(val_dicts)\n",
    "\n",
    "target = 'duration'\n",
    "y_train = df_train[target].values\n",
    "y_val = df_val[target].values"
   ]
  },
  {
   "cell_type": "code",
   "execution_count": 82,
   "id": "213c9b1f-114b-4baf-a49c-0058a4074701",
   "metadata": {},
   "outputs": [
    {
     "name": "stdout",
     "output_type": "stream",
     "text": [
      "Q6: What\"s the RMSE on val?\n",
      "11.014286459793347\n"
     ]
    }
   ],
   "source": [
    "lr = LinearRegression()\n",
    "lr.fit(X_train, y_train)\n",
    "\n",
    "y_pred = lr.predict(X_val)\n",
    "\n",
    "print(f'Q6: What\"s the RMSE on val?')\n",
    "print(mean_squared_error(y_val, y_pred, squared=False))"
>>>>>>> f8bdd23 ( Added Homework file)
   ]
  },
  {
   "cell_type": "code",
   "execution_count": null,
<<<<<<< HEAD
   "id": "b5108416",
=======
   "id": "81aaa7d2-1ebb-4ef3-88c3-be8f20eb83ba",
>>>>>>> f8bdd23 ( Added Homework file)
   "metadata": {},
   "outputs": [],
   "source": []
  }
 ],
 "metadata": {
  "kernelspec": {
   "display_name": "Python 3 (ipykernel)",
   "language": "python",
   "name": "python3"
  },
  "language_info": {
   "codemirror_mode": {
    "name": "ipython",
    "version": 3
   },
   "file_extension": ".py",
   "mimetype": "text/x-python",
   "name": "python",
   "nbconvert_exporter": "python",
   "pygments_lexer": "ipython3",
<<<<<<< HEAD
   "version": "3.9.7"
=======
   "version": "3.9.12"
>>>>>>> f8bdd23 ( Added Homework file)
  }
 },
 "nbformat": 4,
 "nbformat_minor": 5
}
