{
 "cells": [
  {
   "cell_type": "code",
   "execution_count": 1,
   "id": "2c51efaa",
   "metadata": {},
   "outputs": [
    {
     "name": "stdout",
     "output_type": "stream",
     "text": [
      "scikit-learn==1.1.1\n"
     ]
    }
   ],
   "source": [
    "!pip freeze | grep scikit-learn"
   ]
  },
  {
   "cell_type": "code",
   "execution_count": 2,
   "id": "0ef880a0",
   "metadata": {},
   "outputs": [],
   "source": [
    "import pickle\n",
    "import pandas as pd"
   ]
  },
  {
   "cell_type": "code",
   "execution_count": 3,
   "id": "7836ccfd",
   "metadata": {},
   "outputs": [
    {
     "name": "stderr",
     "output_type": "stream",
     "text": [
      "/home/mbui/miniconda3/envs/data_eng/lib/python3.10/site-packages/sklearn/base.py:329: UserWarning: Trying to unpickle estimator DictVectorizer from version 1.0.2 when using version 1.1.1. This might lead to breaking code or invalid results. Use at your own risk. For more info please refer to:\n",
      "https://scikit-learn.org/stable/model_persistence.html#security-maintainability-limitations\n",
      "  warnings.warn(\n",
      "/home/mbui/miniconda3/envs/data_eng/lib/python3.10/site-packages/sklearn/base.py:329: UserWarning: Trying to unpickle estimator LinearRegression from version 1.0.2 when using version 1.1.1. This might lead to breaking code or invalid results. Use at your own risk. For more info please refer to:\n",
      "https://scikit-learn.org/stable/model_persistence.html#security-maintainability-limitations\n",
      "  warnings.warn(\n"
     ]
    }
   ],
   "source": [
    "with open('model.bin', 'rb') as f_in:\n",
    "    dv, lr = pickle.load(f_in)"
   ]
  },
  {
   "cell_type": "code",
   "execution_count": 4,
   "id": "41c08294",
   "metadata": {},
   "outputs": [],
   "source": [
    "categorical = ['PUlocationID', 'DOlocationID']\n",
    "\n",
    "def read_data(filename):\n",
    "    df = pd.read_parquet(filename)\n",
    "    \n",
    "    df['duration'] = df.dropOff_datetime - df.pickup_datetime\n",
    "    df['duration'] = df.duration.dt.total_seconds() / 60\n",
    "\n",
    "    df = df[(df.duration >= 1) & (df.duration <= 60)].copy()\n",
    "\n",
    "    df[categorical] = df[categorical].fillna(-1).astype('int').astype('str')\n",
    "    \n",
    "    return df"
   ]
  },
  {
   "cell_type": "code",
   "execution_count": 12,
   "id": "4854399a",
   "metadata": {},
   "outputs": [],
   "source": [
    "year = 2021\n",
    "month = 2\n",
    "df = read_data(f'https://nyc-tlc.s3.amazonaws.com/trip+data/fhv_tripdata_{year:04d}-{month:02d}.parquet')"
   ]
  },
  {
   "cell_type": "code",
   "execution_count": 13,
   "id": "669fda0a",
   "metadata": {},
   "outputs": [],
   "source": [
    "dicts = df[categorical].to_dict(orient='records')\n",
    "X_val = dv.transform(dicts)\n",
    "y_pred = lr.predict(X_val)"
   ]
  },
  {
   "cell_type": "code",
   "execution_count": 14,
   "id": "c737a7ea-d0fc-48d5-a2f5-30fad3228d5a",
   "metadata": {},
   "outputs": [
    {
     "name": "stdout",
     "output_type": "stream",
     "text": [
      "16.191691679979066\n"
     ]
    }
   ],
   "source": [
    "## Q1. Notebook\n",
    "#Run this notebook for the February 2021 FVH data.\n",
    "#What's the mean predicted duration for this dataset?\n",
    "\n",
    "print(y_pred.mean())"
   ]
  },
  {
   "cell_type": "code",
   "execution_count": 15,
   "id": "eb372334-caf2-46fc-ae6d-ae80369f754e",
   "metadata": {},
   "outputs": [],
   "source": [
    "## Q2. Preparing the output\n",
    "#Like in the course videos, we want to prepare the dataframe with the output. \n",
    "#First, let's create an artificial `ride_id` column:\n",
    "\n",
    "df['ride_id'] = f'{year:04d}/{month:02d}_' + df.index.astype('str')\n"
   ]
  },
  {
   "cell_type": "code",
   "execution_count": 16,
   "id": "8cd19f2e-4879-44fa-a3fc-1615ce807321",
   "metadata": {},
   "outputs": [
    {
     "data": {
      "text/plain": [
       "array([14.53986486, 13.74042222, 15.59333908, ..., 15.83492293,\n",
       "       16.78317605, 19.65462607])"
      ]
     },
     "execution_count": 16,
     "metadata": {},
     "output_type": "execute_result"
    }
   ],
   "source": [
    "y_pred"
   ]
  },
  {
   "cell_type": "code",
   "execution_count": 36,
   "id": "d8876a1e-b92f-46c6-890d-82f479280803",
   "metadata": {},
   "outputs": [
    {
     "name": "stdout",
     "output_type": "stream",
     "text": [
      "                 ride_id     y_pred\n",
      "1              2021/02_1  14.539865\n",
      "2              2021/02_2  13.740422\n",
      "3              2021/02_3  15.593339\n",
      "4              2021/02_4  15.188118\n",
      "5              2021/02_5  13.817206\n",
      "...                  ...        ...\n",
      "1037687  2021/02_1037687  12.433246\n",
      "1037688  2021/02_1037688  12.910885\n",
      "1037689  2021/02_1037689  15.834923\n",
      "1037690  2021/02_1037690  16.783176\n",
      "1037691  2021/02_1037691  19.654626\n",
      "\n",
      "[990113 rows x 2 columns]\n"
     ]
    }
   ],
   "source": [
    "frame = {'ride_id': df['ride_id'], 'y_pred': y_pred}\n",
    "df_result = pd.DataFrame(frame)\n",
    "#df_result.set_index('ride_id', inplace=True)\n",
    "print(df_result)"
   ]
  },
  {
   "cell_type": "code",
   "execution_count": 37,
   "id": "9061e71b-836a-4b7a-acd1-cf6bef2f94cf",
   "metadata": {},
   "outputs": [],
   "source": [
    "#!pip install pyarrow"
   ]
  },
  {
   "cell_type": "code",
   "execution_count": 38,
   "id": "66e6c556-bfc5-4a64-8742-2bce4e6d879d",
   "metadata": {},
   "outputs": [],
   "source": [
    "output_file = './pred.parquet'\n",
    "df_result.to_parquet(\n",
    "    output_file,\n",
    "    engine='pyarrow',\n",
    "    compression=None,\n",
    "    index=False\n",
    ")"
   ]
  },
  {
   "cell_type": "code",
   "execution_count": 35,
   "id": "738503fa-8473-4782-93bc-1212ca10eb08",
   "metadata": {},
   "outputs": [
    {
     "data": {
      "text/plain": [
       "990113"
      ]
     },
     "execution_count": 35,
     "metadata": {},
     "output_type": "execute_result"
    }
   ],
   "source": [
    "df_result.size"
   ]
  },
  {
   "cell_type": "code",
   "execution_count": null,
   "id": "83a552dc-222e-44ef-81b2-7825c5b1fc75",
   "metadata": {},
   "outputs": [],
   "source": []
  }
 ],
 "metadata": {
  "kernelspec": {
   "display_name": "Python 3 (ipykernel)",
   "language": "python",
   "name": "python3"
  },
  "language_info": {
   "codemirror_mode": {
    "name": "ipython",
    "version": 3
   },
   "file_extension": ".py",
   "mimetype": "text/x-python",
   "name": "python",
   "nbconvert_exporter": "python",
   "pygments_lexer": "ipython3",
   "version": "3.10.4"
  }
 },
 "nbformat": 4,
 "nbformat_minor": 5
}
